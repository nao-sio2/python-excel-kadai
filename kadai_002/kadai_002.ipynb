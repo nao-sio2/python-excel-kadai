{
  "nbformat": 4,
  "nbformat_minor": 0,
  "metadata": {
    "colab": {
      "provenance": []
    },
    "kernelspec": {
      "name": "python3",
      "display_name": "Python 3"
    },
    "language_info": {
      "name": "python"
    }
  },
  "cells": [
    {
      "cell_type": "code",
      "execution_count": 1,
      "metadata": {
        "colab": {
          "base_uri": "https://localhost:8080/"
        },
        "id": "ovQ6z4sZHbk5",
        "outputId": "75f414e4-afcd-4081-d43f-0cbb99c1dd0e"
      },
      "outputs": [
        {
          "output_type": "stream",
          "name": "stdout",
          "text": [
            "Requirement already satisfied: pandas in /usr/local/lib/python3.11/dist-packages (2.2.2)\n",
            "Requirement already satisfied: numpy>=1.23.2 in /usr/local/lib/python3.11/dist-packages (from pandas) (2.0.2)\n",
            "Requirement already satisfied: python-dateutil>=2.8.2 in /usr/local/lib/python3.11/dist-packages (from pandas) (2.9.0.post0)\n",
            "Requirement already satisfied: pytz>=2020.1 in /usr/local/lib/python3.11/dist-packages (from pandas) (2025.2)\n",
            "Requirement already satisfied: tzdata>=2022.7 in /usr/local/lib/python3.11/dist-packages (from pandas) (2025.2)\n",
            "Requirement already satisfied: six>=1.5 in /usr/local/lib/python3.11/dist-packages (from python-dateutil>=2.8.2->pandas) (1.17.0)\n"
          ]
        }
      ],
      "source": [
        "#課題2）データから値を算出してExcelファイルを作成しよう\n",
        "\n",
        "!pip install pandas\n",
        "import pandas as pd\n",
        "\n",
        "# 社員ごとの売上データについて、データフレームを作成\n",
        "df = pd.DataFrame(data={\n",
        "    \"日付\":[\"2023-05-17\", \"2023-05-18\", \"2023-05-19\", \"2023-05-20\", \"2023-05-21\"],\n",
        "    \"社員名\":[\"山田\", \"佐藤\", \"鈴木\", \"田中\", \"高橋\"],\n",
        "    \"売上\":[100, 200, 150, 300, 250],\n",
        "    \"部門\":[\"メーカー\", \"代理店\", \"メーカー\", \"商社\", \"代理店\"]\n",
        "})\n",
        "\n",
        "# 「平均売上」列を作成し、全体の売上の平均を算出\n",
        "df[\"平均売上\"] = df[\"売上\"].mean()\n",
        "\n",
        "# 平均売上に対する売上で条件分岐する関数「performance」を定義\n",
        "def performance(sales):\n",
        "    rank = \"\"\n",
        "    if sales >= df[\"売上\"].mean()+50:\n",
        "        rank = \"A\"\n",
        "    elif sales >= df[\"売上\"].mean():\n",
        "        rank = \"B\"\n",
        "    else:\n",
        "        rank = \"C\"\n",
        "    return rank\n",
        "# 「業績ランク」列を作成し、業績ランクを設定\n",
        "df[\"業績ランク\"] = df[\"売上\"].apply(performance)\n",
        "\n",
        "# 新規ファイル「業績.xlsx」に書き出して保存\n",
        "writer = pd.ExcelWriter(\"業績.xlsx\")\n",
        "df.to_excel(writer, sheet_name=\"sheet1\", index=False)\n",
        "writer.close()"
      ]
    }
  ]
}