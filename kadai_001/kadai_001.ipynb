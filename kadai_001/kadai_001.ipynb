{
  "nbformat": 4,
  "nbformat_minor": 0,
  "metadata": {
    "colab": {
      "provenance": []
    },
    "kernelspec": {
      "name": "python3",
      "display_name": "Python 3"
    },
    "language_info": {
      "name": "python"
    }
  },
  "cells": [
    {
      "cell_type": "code",
      "execution_count": 3,
      "metadata": {
        "id": "WCn2706h7Gy1",
        "colab": {
          "base_uri": "https://localhost:8080/"
        },
        "outputId": "569fa838-72c5-42f2-eef1-b86c21f1f8ed"
      },
      "outputs": [
        {
          "output_type": "stream",
          "name": "stdout",
          "text": [
            "Requirement already satisfied: openpyxl in /usr/local/lib/python3.11/dist-packages (3.1.5)\n",
            "Requirement already satisfied: et-xmlfile in /usr/local/lib/python3.11/dist-packages (from openpyxl) (2.0.0)\n"
          ]
        }
      ],
      "source": [
        "#課題1）openpyxlで請求書.xlsxを作成しよう\n",
        "\n",
        "!pip install openpyxl\n",
        "import openpyxl\n",
        "\n",
        "wb = openpyxl.Workbook()\n",
        "ws = wb.active\n",
        "\n",
        "ws[\"A1\"] = \"請求書\"\n",
        "ws[\"A3\"] = \"株式会社ABC\"\n",
        "ws[\"A4\"] = \"〒101-0022 東京都千代田区神田練塀町300\"\n",
        "ws[\"A5\"] = \"TEL:03-1234-5678 FAX:03-1234-5678\"\n",
        "ws[\"A6\"] = \"担当者名:鈴木一郎 様\"\n",
        "ws[\"A7\"] = \"\"\n",
        "ws[\"A8\"] = \"\"\n",
        "ws[\"E3\"] = \"No.\"\n",
        "ws[\"E4\"] = \"日付\"\n",
        "ws[\"F3\"] = \"0001\"\n",
        "\n",
        "from datetime import datetime\n",
        "today = datetime.today()\n",
        "ws[\"F4\"] = f\"{today.strftime('%Y/%m/%d')}\"\n",
        "\n",
        "data = [[\"商品名\", \"数量\", \"単価\", \"金額\"],\n",
        "        [\"商品A\", 2, 10000, 20000],\n",
        "        [\"商品B\", 1, 15000, 15000],\n",
        "        ]\n",
        "for row in data:\n",
        "    ws.append(row)\n",
        "\n",
        "ws[\"D12\"] = \"=SUM(E11 + E12)\"\n",
        "ws[\"D13\"] = \"\"\n",
        "\n",
        "result = [[\"合計\", \"\", \"\", \"=E13\"],\n",
        "          [\"消費税\", \"\", \"\", \"=E15 * 0.1\"],\n",
        "          [\"税込合計\", \"\", \"\", \"=SUM(E15 + E16)\"]\n",
        "          ]\n",
        "for row in result:\n",
        "    ws.append(row)\n",
        "\n",
        "ws.insert_rows(1,1)\n",
        "ws.insert_cols(1,1)\n",
        "\n",
        "from openpyxl.styles import Font\n",
        "font = Font(size=9, bold=True)\n",
        "for row in ws[\"A1:G17\"]:\n",
        "    for cell in row:\n",
        "        cell.font = font\n",
        "\n",
        "wb.save(f\"請求書_{today.strftime('%Y%m%d')}.xlsx\")"
      ]
    }
  ]
}